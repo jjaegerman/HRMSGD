{
 "cells": [
  {
   "cell_type": "code",
   "execution_count": 1,
   "source": [
    "import csv\r\n",
    "import pandas as pd\r\n",
    "import numpy as np\r\n",
    "import glob"
   ],
   "outputs": [],
   "metadata": {}
  },
  {
   "cell_type": "code",
   "execution_count": 2,
   "source": [
    "files = glob.glob(\"../../files/grid_search/*\")\r\n",
    "#print(files)\r\n",
    "print(len(files))"
   ],
   "outputs": [
    {
     "output_type": "stream",
     "name": "stdout",
     "text": [
      "34\n"
     ]
    }
   ],
   "metadata": {}
  },
  {
   "cell_type": "code",
   "execution_count": 3,
   "source": [
    "def get_headers(df):\r\n",
    "    keys = list(df.keys())[1:]\r\n",
    "    headers = list()\r\n",
    "    for key in keys:\r\n",
    "        key = ''.join(key.split('_')[:-2]).lower()\r\n",
    "        if key not in headers:\r\n",
    "            headers.append(key)\r\n",
    "        else:\r\n",
    "            break\r\n",
    "    assert(len(set(headers)) == len(headers))\r\n",
    "    return headers"
   ],
   "outputs": [],
   "metadata": {}
  },
  {
   "cell_type": "code",
   "execution_count": 24,
   "source": [
    "#Get all values, put into dictionary\r\n",
    "zeta = dict()\r\n",
    "values_test  = {'SR': zeta.copy(), \"SRLRFdefault\": zeta.copy(), 'SRsquare': zeta.copy(), \"SRLRFsquare\": zeta.copy(),'SRcov': zeta.copy(), \"SRLRFcov\": zeta.copy(),\r\n",
    "                'ER': zeta.copy(), \"ERLRFdefault\": zeta.copy(), 'ERsquare': zeta.copy(), \"ERLRFsquare\": zeta.copy(),'ERcov': zeta.copy(), \"ERLRFcov\": zeta.copy()}\r\n",
    "values_train = {'SR': zeta.copy(), \"SRLRFdefault\": zeta.copy(), 'SRsquare': zeta.copy(), \"SRLRFsquare\": zeta.copy(),'SRcov': zeta.copy(), \"SRLRFcov\": zeta.copy(),\r\n",
    "                'ER': zeta.copy(), \"ERLRFdefault\": zeta.copy(), 'ERsquare': zeta.copy(), \"ERLRFsquare\": zeta.copy(),'ERcov': zeta.copy(), \"ERLRFcov\": zeta.copy()}\r\n",
    "\r\n",
    "for file in files:\r\n",
    "    if(\".pickle\" in file or 'zeta' not in file):\r\n",
    "        continue\r\n",
    "    print(file)\r\n",
    "    metric = file.split(\"measure=\")[1].split(\"_\")[0]\r\n",
    "    z = float(file.split(\"_\")[-2].split(\"zeta=\")[-1].replace(\".xlsx\", \"\"))\r\n",
    "    b  = float(file.split(\"_\")[-1].split(\"beta=\")[-1].replace(\".xlsx\", \"\"))\r\n",
    "    df = pd.read_excel(file)\r\n",
    "    headers = get_headers(df)\r\n",
    "    #print(headers)\r\n",
    "    df = df.T\r\n",
    "    tag = 'testacc1'\r\n",
    "    if 'testacc1' not in headers:\r\n",
    "        tag = 'testacc'\r\n",
    "        if 'testacc' not in headers:\r\n",
    "            tag = 'acc'\r\n",
    "    test_acc = np.asarray(\r\n",
    "        df.iloc[headers.index(tag) + 1::len(headers), :])\r\n",
    "    tag = 'trainacc1'\r\n",
    "    if 'trainacc1' not in headers:\r\n",
    "        tag = 'trainacc'\r\n",
    "    try:\r\n",
    "        train_acc = np.asarray(\r\n",
    "            df.iloc[headers.index(tag) + 1::len(headers), :])\r\n",
    "    except:\r\n",
    "        print(1)\r\n",
    "\r\n",
    "    if z not in values_test[metric]:\r\n",
    "        values_test[metric][z] = dict()\r\n",
    "        values_train[metric][z] = dict()\r\n",
    "\r\n",
    "    print(np.max(test_acc))\r\n",
    "    print(np.max(train_acc))\r\n",
    "    print(metric, z)\r\n",
    "    values_test[metric][z][b] = np.max(test_acc)\r\n",
    "    values_train[metric][z][b] = np.max(train_acc)\r\n"
   ],
   "outputs": [
    {
     "output_type": "stream",
     "name": "stdout",
     "text": [
      "../../files/grid_search\\results_date=2021-08-20-06-35-22_trial=0_ResNet18CIFAR_CIFAR10_HRMSGDweight_decay=0.0_momentum=0.0_step_size=25.0_gamma=0.5_ready=1.0_None_LR=0.1_measure=SR_zeta=30.0_beta=0.1.xlsx\n",
      "0.8772999572753907\n",
      "0.901719970703125\n",
      "SR 30.0\n",
      "../../files/grid_search\\results_date=2021-08-20-06-40-12_trial=0_ResNet18CIFAR_CIFAR10_HRMSGDweight_decay=0.0_momentum=0.0_step_size=25.0_gamma=0.5_ready=1.0_None_LR=0.1_measure=SR_zeta=60.0_beta=0.1.xlsx\n",
      "0.9112999725341797\n",
      "0.9741999816894531\n",
      "SR 60.0\n",
      "../../files/grid_search\\results_date=2021-08-20-06-40-12_trial=0_ResNet18CIFAR_CIFAR10_HRMSGDweight_decay=0.0_momentum=0.0_step_size=25.0_gamma=0.5_ready=1.0_None_LR=0.1_measure=SR_zeta=90.0_beta=0.1.xlsx\n",
      "0.8755999755859375\n",
      "0.895719985961914\n",
      "SR 90.0\n",
      "../../files/grid_search\\results_date=2021-08-20-06-49-21_trial=0_ResNet18CIFAR_CIFAR10_HRMSGDweight_decay=0.0_momentum=0.0_step_size=25.0_gamma=0.5_ready=1.0_None_LR=0.1_measure=ER_zeta=0.03_beta=0.0.xlsx\n",
      "0.87\n",
      "0.8900199890136719\n",
      "ER 0.03\n",
      "../../files/grid_search\\results_date=2021-08-20-06-49-21_trial=0_ResNet18CIFAR_CIFAR10_HRMSGDweight_decay=0.0_momentum=0.0_step_size=25.0_gamma=0.5_ready=1.0_None_LR=0.1_measure=ER_zeta=0.08_beta=0.1.xlsx\n",
      "0.9072000122070313\n",
      "0.977719955444336\n",
      "ER 0.08\n",
      "../../files/grid_search\\results_date=2021-08-20-06-49-21_trial=0_ResNet18CIFAR_CIFAR10_HRMSGDweight_decay=0.0_momentum=0.0_step_size=25.0_gamma=0.5_ready=1.0_None_LR=0.1_measure=ER_zeta=0.18_beta=0.1.xlsx\n",
      "0.9225999450683594\n",
      "0.9870600128173828\n",
      "ER 0.18\n",
      "../../files/grid_search\\results_date=2021-08-20-06-49-21_trial=0_ResNet18CIFAR_CIFAR10_HRMSGDweight_decay=0.0_momentum=0.0_step_size=25.0_gamma=0.5_ready=1.0_None_LR=0.1_measure=SR_zeta=15.0_beta=0.0.xlsx\n",
      "0.8654999542236328\n",
      "0.881719970703125\n",
      "SR 15.0\n",
      "../../files/grid_search\\results_date=2021-08-20-06-49-22_trial=0_ResNet18CIFAR_CIFAR10_HRMSGDweight_decay=0.0_momentum=0.0_step_size=25.0_gamma=0.5_ready=1.0_None_LR=0.1_measure=ER_zeta=0.23_beta=0.0.xlsx\n",
      "0.9222999572753906\n",
      "0.985719985961914\n",
      "ER 0.23\n",
      "../../files/grid_search\\results_date=2021-08-20-06-49-22_trial=0_ResNet18CIFAR_CIFAR10_HRMSGDweight_decay=0.0_momentum=0.0_step_size=25.0_gamma=0.5_ready=1.0_None_LR=0.1_measure=ER_zeta=0.28_beta=0.1.xlsx\n",
      "0.9233999633789063\n",
      "0.9878199768066406\n",
      "ER 0.28\n",
      "../../files/grid_search\\results_date=2021-08-20-06-49-22_trial=0_ResNet18CIFAR_CIFAR10_HRMSGDweight_decay=0.0_momentum=0.0_step_size=25.0_gamma=0.5_ready=1.0_None_LR=0.1_measure=SR_zeta=75.0_beta=0.0.xlsx\n",
      "0.913499984741211\n",
      "0.9733399963378906\n",
      "SR 75.0\n",
      "../../files/grid_search\\results_date=2021-08-20-09-58-21_trial=0_ResNet18CIFAR_CIFAR10_HRMSGDweight_decay=0.0_momentum=0.0_step_size=25.0_gamma=0.5_ready=1.0_None_LR=0.1_measure=SR_zeta=90.0_beta=0.2.xlsx\n",
      "0.8663999938964844\n",
      "0.8804000091552734\n",
      "SR 90.0\n",
      "../../files/grid_search\\results_date=2021-08-20-09-58-22_trial=0_ResNet18CIFAR_CIFAR10_HRMSGDweight_decay=0.0_momentum=0.0_step_size=25.0_gamma=0.5_ready=1.0_None_LR=0.1_measure=SR_zeta=60.0_beta=0.2.xlsx\n",
      "0.9105999755859375\n",
      "0.9763800048828125\n",
      "SR 60.0\n",
      "../../files/grid_search\\results_date=2021-08-20-10-03-57_trial=0_ResNet18CIFAR_CIFAR10_HRMSGDweight_decay=0.0_momentum=0.0_step_size=25.0_gamma=0.5_ready=1.0_None_LR=0.1_measure=SR_zeta=90.0_beta=0.0.xlsx\n",
      "0.8862999725341797\n",
      "0.9203199768066406\n",
      "SR 90.0\n",
      "../../files/grid_search\\results_date=2021-08-20-10-03-59_trial=0_ResNet18CIFAR_CIFAR10_HRMSGDweight_decay=0.0_momentum=0.0_step_size=25.0_gamma=0.5_ready=1.0_None_LR=0.1_measure=ER_zeta=0.08_beta=0.0.xlsx\n",
      "0.9047999572753906\n",
      "0.9674800109863281\n",
      "ER 0.08\n",
      "../../files/grid_search\\results_date=2021-08-20-10-06-23_trial=0_ResNet18CIFAR_CIFAR10_HRMSGDweight_decay=0.0_momentum=0.0_step_size=25.0_gamma=0.5_ready=1.0_None_LR=0.1_measure=ER_zeta=0.08_beta=0.2.xlsx\n",
      "0.9108999633789062\n",
      "0.9802399444580078\n",
      "ER 0.08\n",
      "../../files/grid_search\\results_date=2021-08-20-10-06-33_trial=0_ResNet18CIFAR_CIFAR10_HRMSGDweight_decay=0.0_momentum=0.0_step_size=25.0_gamma=0.5_ready=1.0_None_LR=0.1_measure=SR_zeta=30.0_beta=0.0.xlsx\n",
      "0.875\n",
      "0.893499984741211\n",
      "SR 30.0\n",
      "../../files/grid_search\\results_date=2021-08-20-10-08-24_trial=0_ResNet18CIFAR_CIFAR10_HRMSGDweight_decay=0.0_momentum=0.0_step_size=25.0_gamma=0.5_ready=1.0_None_LR=0.1_measure=ER_zeta=0.18_beta=0.2.xlsx\n",
      "0.9243000030517579\n",
      "0.9888199615478516\n",
      "ER 0.18\n",
      "../../files/grid_search\\results_date=2021-08-20-10-22-35_trial=0_ResNet18CIFAR_CIFAR10_HRMSGDweight_decay=0.0_momentum=0.0_step_size=25.0_gamma=0.5_ready=1.0_None_LR=0.1_measure=SR_zeta=30.0_beta=0.2.xlsx\n",
      "0.8754999542236328\n",
      "0.8976599884033203\n",
      "SR 30.0\n",
      "../../files/grid_search\\results_date=2021-08-20-10-36-43_trial=0_ResNet18CIFAR_CIFAR10_HRMSGDweight_decay=0.0_momentum=0.0_step_size=25.0_gamma=0.5_ready=1.0_None_LR=0.1_measure=ER_zeta=0.28_beta=0.2.xlsx\n",
      "0.9250999450683594\n",
      "0.9876799774169922\n",
      "ER 0.28\n",
      "../../files/grid_search\\results_date=2021-08-20-10-36-44_trial=0_ResNet18CIFAR_CIFAR10_HRMSGDweight_decay=0.0_momentum=0.0_step_size=25.0_gamma=0.5_ready=1.0_None_LR=0.1_measure=ER_zeta=0.28_beta=0.0.xlsx\n",
      "0.9236000061035157\n",
      "0.9864599609375\n",
      "ER 0.28\n",
      "../../files/grid_search\\results_date=2021-08-20-13-15-59_trial=0_ResNet18CIFAR_CIFAR10_HRMSGDweight_decay=0.0_momentum=0.0_step_size=25.0_gamma=0.5_ready=1.0_None_LR=0.1_measure=SR_zeta=90.0_beta=0.3.xlsx\n",
      "0.8361000061035156\n",
      "0.8449800109863281\n",
      "SR 90.0\n",
      "../../files/grid_search\\results_date=2021-08-20-13-17-01_trial=0_ResNet18CIFAR_CIFAR10_HRMSGDweight_decay=0.0_momentum=0.0_step_size=25.0_gamma=0.5_ready=1.0_None_LR=0.1_measure=SR_zeta=105.0_beta=0.0.xlsx\n",
      "0.8368000030517578\n",
      "0.8440399932861328\n",
      "SR 105.0\n",
      "../../files/grid_search\\results_date=2021-08-20-13-17-15_trial=0_ResNet18CIFAR_CIFAR10_HRMSGDweight_decay=0.0_momentum=0.0_step_size=25.0_gamma=0.5_ready=1.0_None_LR=0.1_measure=ER_zeta=0.13_beta=0.0.xlsx\n",
      "0.9220999908447266\n",
      "0.9863599395751953\n",
      "ER 0.13\n",
      "../../files/grid_search\\results_date=2021-08-20-13-19-41_trial=0_ResNet18CIFAR_CIFAR10_HRMSGDweight_decay=0.0_momentum=0.0_step_size=25.0_gamma=0.5_ready=1.0_None_LR=0.1_measure=SR_zeta=60.0_beta=0.3.xlsx\n",
      "0.9041999816894531\n",
      "0.963219985961914\n",
      "SR 60.0\n",
      "../../files/grid_search\\results_date=2021-08-20-13-22-02_trial=0_ResNet18CIFAR_CIFAR10_HRMSGDweight_decay=0.0_momentum=0.0_step_size=25.0_gamma=0.5_ready=1.0_None_LR=0.1_measure=ER_zeta=0.08_beta=0.3.xlsx\n",
      "0.9148999786376953\n",
      "0.9822000122070312\n",
      "ER 0.08\n",
      "../../files/grid_search\\results_date=2021-08-20-13-22-21_trial=0_ResNet18CIFAR_CIFAR10_HRMSGDweight_decay=0.0_momentum=0.0_step_size=25.0_gamma=0.5_ready=1.0_None_LR=0.1_measure=ER_zeta=0.18_beta=0.3.xlsx\n",
      "0.9247000122070312\n",
      "0.9883999633789062\n",
      "ER 0.18\n",
      "../../files/grid_search\\results_date=2021-08-20-13-22-31_trial=0_ResNet18CIFAR_CIFAR10_HRMSGDweight_decay=0.0_momentum=0.0_step_size=25.0_gamma=0.5_ready=1.0_None_LR=0.1_measure=SR_zeta=45.0_beta=0.0.xlsx\n",
      "0.8743999481201172\n",
      "0.8993000030517578\n",
      "SR 45.0\n",
      "../../files/grid_search\\results_date=2021-08-20-14-08-14_trial=0_ResNet18CIFAR_CIFAR10_HRMSGDweight_decay=0.0_momentum=0.0_step_size=25.0_gamma=0.5_ready=1.0_None_LR=0.1_measure=SR_zeta=30.0_beta=0.3.xlsx\n",
      "0.8747000122070312\n",
      "0.899000015258789\n",
      "SR 30.0\n",
      "../../files/grid_search\\results_date=2021-08-20-14-19-57_trial=0_ResNet18CIFAR_CIFAR10_HRMSGDweight_decay=0.0_momentum=0.0_step_size=25.0_gamma=0.5_ready=1.0_None_LR=0.1_measure=ER_zeta=0.28_beta=0.3.xlsx\n",
      "0.9255999755859375\n",
      "0.9876399993896484\n",
      "ER 0.28\n",
      "../../files/grid_search\\results_date=2021-08-20-14-19-59_trial=0_ResNet18CIFAR_CIFAR10_HRMSGDweight_decay=0.0_momentum=0.0_step_size=25.0_gamma=0.5_ready=1.0_None_LR=0.1_measure=ER_zeta=0.33_beta=0.0.xlsx\n",
      "0.9240999603271485\n",
      "0.9856800079345703\n",
      "ER 0.33\n",
      "../../files/grid_search\\results_date=2021-08-20-16-30-39_trial=0_ResNet18CIFAR_CIFAR10_HRMSGDweight_decay=0.0_momentum=0.0_step_size=25.0_gamma=0.5_ready=1.0_None_LR=0.1_measure=ER_zeta=0.18_beta=0.0.xlsx\n",
      "0.921199951171875\n",
      "0.9885799407958984\n",
      "ER 0.18\n",
      "../../files/grid_search\\results_date=2021-08-20-16-31-23_trial=0_ResNet18CIFAR_CIFAR10_HRMSGDweight_decay=0.0_momentum=0.0_step_size=25.0_gamma=0.5_ready=1.0_None_LR=0.1_measure=SR_zeta=120.0_beta=0.0.xlsx\n",
      "0.8350999450683594\n",
      "0.8408599853515625\n",
      "SR 120.0\n",
      "../../files/grid_search\\results_date=2021-08-20-16-37-40_trial=0_ResNet18CIFAR_CIFAR10_HRMSGDweight_decay=0.0_momentum=0.0_step_size=25.0_gamma=0.5_ready=1.0_None_LR=0.1_measure=SR_zeta=60.0_beta=0.0.xlsx\n",
      "0.9025\n",
      "0.9543599700927734\n",
      "SR 60.0\n",
      "../../files/grid_search\\results_date=2021-08-20-17-46-54_trial=0_ResNet18CIFAR_CIFAR10_HRMSGDweight_decay=0.0_momentum=0.0_step_size=25.0_gamma=0.5_ready=1.0_None_LR=0.1_measure=ER_zeta=0.38_beta=0.0.xlsx\n",
      "0.9139999389648438\n",
      "0.9777799987792969\n",
      "ER 0.38\n"
     ]
    }
   ],
   "metadata": {}
  },
  {
   "cell_type": "code",
   "execution_count": 25,
   "source": [
    "#Get all axes\r\n",
    "x = ['SR', 'ER']\r\n",
    "\r\n",
    "y = []\r\n",
    "yy = []\r\n",
    "for m in x:\r\n",
    "    for z in values_test[m].keys():\r\n",
    "        if(z not in y):\r\n",
    "            y.append(z)\r\n",
    "        for zz in values_test[m][z].keys():\r\n",
    "            if zz not in yy:\r\n",
    "                yy.append(zz)\r\n",
    "y.sort()\r\n",
    "yy.sort()\r\n",
    "print(y)\r\n",
    "print(yy)\r\n",
    "dfs = dict()\r\n",
    "for m in x:\r\n",
    "    dfs[m] = pd.DataFrame(index = y, columns=yy)"
   ],
   "outputs": [
    {
     "output_type": "stream",
     "name": "stdout",
     "text": [
      "[0.03, 0.08, 0.13, 0.18, 0.23, 0.28, 0.33, 0.38, 15.0, 30.0, 45.0, 60.0, 75.0, 90.0, 105.0, 120.0]\n",
      "[0.0, 0.1, 0.2, 0.3]\n"
     ]
    }
   ],
   "metadata": {}
  },
  {
   "cell_type": "code",
   "execution_count": 26,
   "source": [
    "for m in x:\r\n",
    "    for z in values_test[m].keys():\r\n",
    "        for zz in values_test[m][z].keys():\r\n",
    "            dfs[m][zz][z] = values_test[m][z][zz]\r\n",
    "print(dfs)"
   ],
   "outputs": [
    {
     "output_type": "stream",
     "name": "stdout",
     "text": [
      "{'SR':            0.0     0.1     0.2     0.3\n",
      "0.03       NaN     NaN     NaN     NaN\n",
      "0.08       NaN     NaN     NaN     NaN\n",
      "0.13       NaN     NaN     NaN     NaN\n",
      "0.18       NaN     NaN     NaN     NaN\n",
      "0.23       NaN     NaN     NaN     NaN\n",
      "0.28       NaN     NaN     NaN     NaN\n",
      "0.33       NaN     NaN     NaN     NaN\n",
      "0.38       NaN     NaN     NaN     NaN\n",
      "15.00   0.8655     NaN     NaN     NaN\n",
      "30.00    0.875  0.8773  0.8755  0.8747\n",
      "45.00   0.8744     NaN     NaN     NaN\n",
      "60.00   0.9025  0.9113  0.9106  0.9042\n",
      "75.00   0.9135     NaN     NaN     NaN\n",
      "90.00   0.8863  0.8756  0.8664  0.8361\n",
      "105.00  0.8368     NaN     NaN     NaN\n",
      "120.00  0.8351     NaN     NaN     NaN, 'ER':            0.0     0.1     0.2     0.3\n",
      "0.03      0.87     NaN     NaN     NaN\n",
      "0.08    0.9048  0.9072  0.9109  0.9149\n",
      "0.13    0.9221     NaN     NaN     NaN\n",
      "0.18    0.9212  0.9226  0.9243  0.9247\n",
      "0.23    0.9223     NaN     NaN     NaN\n",
      "0.28    0.9236  0.9234  0.9251  0.9256\n",
      "0.33    0.9241     NaN     NaN     NaN\n",
      "0.38     0.914     NaN     NaN     NaN\n",
      "15.00      NaN     NaN     NaN     NaN\n",
      "30.00      NaN     NaN     NaN     NaN\n",
      "45.00      NaN     NaN     NaN     NaN\n",
      "60.00      NaN     NaN     NaN     NaN\n",
      "75.00      NaN     NaN     NaN     NaN\n",
      "90.00      NaN     NaN     NaN     NaN\n",
      "105.00     NaN     NaN     NaN     NaN\n",
      "120.00     NaN     NaN     NaN     NaN}\n"
     ]
    }
   ],
   "metadata": {}
  },
  {
   "cell_type": "code",
   "execution_count": 27,
   "source": [
    "for m in x:\r\n",
    "    dfs[m].to_csv(\"Results_\"+m+\".csv\")"
   ],
   "outputs": [],
   "metadata": {}
  },
  {
   "cell_type": "code",
   "execution_count": 11,
   "source": [
    "#['SRdefault', 'SRsquare', 'SRcov','SRLRFdefault', 'SRLRFsquare', 'SRLRFcov']:\r\n",
    "#['ERdefault', 'ERsquare', 'ERcov','ERLRFdefault', 'ERLRFsquare', 'ERLRFcov']:\r\n",
    "#[1,2,4,8,16,32,64,128]\r\n",
    "#[100,200,400,800,1600,3200,6400,12800]\r\n",
    "#[0.5,1.5,2.5,3,3.5,4.5,5,5.5]\r\n",
    "for m in ['ERLRFsquare']:\r\n",
    "    print(m, \", \")\r\n",
    "    for z in [0.01,0.02,0.04,0.08,0.16,0.32,0.64,1.28]:\r\n",
    "        print(values_train[m][z], \", \", end = '')\r\n",
    "    print('')"
   ],
   "outputs": [
    {
     "output_type": "stream",
     "name": "stdout",
     "text": [
      "ERLRFsquare , \n"
     ]
    },
    {
     "output_type": "error",
     "ename": "KeyError",
     "evalue": "0.01",
     "traceback": [
      "\u001b[1;31m---------------------------------------------------------------------------\u001b[0m",
      "\u001b[1;31mKeyError\u001b[0m                                  Traceback (most recent call last)",
      "\u001b[1;32m<ipython-input-11-a64920237406>\u001b[0m in \u001b[0;36m<module>\u001b[1;34m\u001b[0m\n\u001b[0;32m      7\u001b[0m     \u001b[0mprint\u001b[0m\u001b[1;33m(\u001b[0m\u001b[0mm\u001b[0m\u001b[1;33m,\u001b[0m \u001b[1;34m\", \"\u001b[0m\u001b[1;33m)\u001b[0m\u001b[1;33m\u001b[0m\u001b[1;33m\u001b[0m\u001b[0m\n\u001b[0;32m      8\u001b[0m     \u001b[1;32mfor\u001b[0m \u001b[0mz\u001b[0m \u001b[1;32min\u001b[0m \u001b[1;33m[\u001b[0m\u001b[1;36m0.01\u001b[0m\u001b[1;33m,\u001b[0m\u001b[1;36m0.02\u001b[0m\u001b[1;33m,\u001b[0m\u001b[1;36m0.04\u001b[0m\u001b[1;33m,\u001b[0m\u001b[1;36m0.08\u001b[0m\u001b[1;33m,\u001b[0m\u001b[1;36m0.16\u001b[0m\u001b[1;33m,\u001b[0m\u001b[1;36m0.32\u001b[0m\u001b[1;33m,\u001b[0m\u001b[1;36m0.64\u001b[0m\u001b[1;33m,\u001b[0m\u001b[1;36m1.28\u001b[0m\u001b[1;33m]\u001b[0m\u001b[1;33m:\u001b[0m\u001b[1;33m\u001b[0m\u001b[1;33m\u001b[0m\u001b[0m\n\u001b[1;32m----> 9\u001b[1;33m         \u001b[0mprint\u001b[0m\u001b[1;33m(\u001b[0m\u001b[0mvalues_train\u001b[0m\u001b[1;33m[\u001b[0m\u001b[0mm\u001b[0m\u001b[1;33m]\u001b[0m\u001b[1;33m[\u001b[0m\u001b[0mz\u001b[0m\u001b[1;33m]\u001b[0m\u001b[1;33m,\u001b[0m \u001b[1;34m\", \"\u001b[0m\u001b[1;33m,\u001b[0m \u001b[0mend\u001b[0m \u001b[1;33m=\u001b[0m \u001b[1;34m''\u001b[0m\u001b[1;33m)\u001b[0m\u001b[1;33m\u001b[0m\u001b[1;33m\u001b[0m\u001b[0m\n\u001b[0m\u001b[0;32m     10\u001b[0m     \u001b[0mprint\u001b[0m\u001b[1;33m(\u001b[0m\u001b[1;34m''\u001b[0m\u001b[1;33m)\u001b[0m\u001b[1;33m\u001b[0m\u001b[1;33m\u001b[0m\u001b[0m\n",
      "\u001b[1;31mKeyError\u001b[0m: 0.01"
     ]
    }
   ],
   "metadata": {}
  },
  {
   "cell_type": "code",
   "execution_count": null,
   "source": [],
   "outputs": [],
   "metadata": {}
  }
 ],
 "metadata": {
  "orig_nbformat": 4,
  "language_info": {
   "name": "python",
   "version": "3.8.5",
   "mimetype": "text/x-python",
   "codemirror_mode": {
    "name": "ipython",
    "version": 3
   },
   "pygments_lexer": "ipython3",
   "nbconvert_exporter": "python",
   "file_extension": ".py"
  },
  "kernelspec": {
   "name": "python3",
   "display_name": "Python 3.8.5 64-bit ('base': conda)"
  },
  "interpreter": {
   "hash": "ab71728b2e6544376d0f7b7ce3a2690cdf3a078b6ef92caeda64ccdf9bfd26c3"
  }
 },
 "nbformat": 4,
 "nbformat_minor": 2
}