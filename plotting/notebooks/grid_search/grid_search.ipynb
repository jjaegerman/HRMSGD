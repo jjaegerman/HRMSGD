{
 "cells": [
  {
   "cell_type": "code",
   "execution_count": null,
   "source": [
    "import csv\r\n",
    "import pandas as pd\r\n",
    "import numpy as np\r\n",
    "import glob"
   ],
   "outputs": [],
   "metadata": {}
  },
  {
   "cell_type": "code",
   "execution_count": null,
   "source": [
    "files = glob.glob(\"../../files/grid_search/2nd_run/results_*\")\r\n",
    "#print(files)\r\n",
    "print(len(files))"
   ],
   "outputs": [],
   "metadata": {}
  },
  {
   "cell_type": "code",
   "execution_count": null,
   "source": [
    "def get_headers(df):\r\n",
    "    keys = list(df.keys())[1:]\r\n",
    "    headers = list()\r\n",
    "    for key in keys:\r\n",
    "        key = ''.join(key.split('_')[:-2]).lower()\r\n",
    "        if key not in headers:\r\n",
    "            headers.append(key)\r\n",
    "        else:\r\n",
    "            break\r\n",
    "    assert(len(set(headers)) == len(headers))\r\n",
    "    return headers"
   ],
   "outputs": [],
   "metadata": {}
  },
  {
   "cell_type": "code",
   "execution_count": null,
   "source": [
    "#Get all values, put into dictionary\r\n",
    "zeta = {}\r\n",
    "values_test  = {'SRdefault': zeta.copy(), \"SRLRFdefault\": zeta.copy(), 'SRsquare': zeta.copy(), \"SRLRFsquare\": zeta.copy(),'SRcov': zeta.copy(), \"SRLRFcov\": zeta.copy(),\r\n",
    "                'ERdefault': zeta.copy(), \"ERLRFdefault\": zeta.copy(), 'ERsquare': zeta.copy(), \"ERLRFsquare\": zeta.copy(),'ERcov': zeta.copy(), \"ERLRFcov\": zeta.copy()}\r\n",
    "values_train = {'SRdefault': zeta.copy(), \"SRLRFdefault\": zeta.copy(), 'SRsquare': zeta.copy(), \"SRLRFsquare\": zeta.copy(),'SRcov': zeta.copy(), \"SRLRFcov\": zeta.copy(),\r\n",
    "                'ERdefault': zeta.copy(), \"ERLRFdefault\": zeta.copy(), 'ERsquare': zeta.copy(), \"ERLRFsquare\": zeta.copy(),'ERcov': zeta.copy(), \"ERLRFcov\": zeta.copy()}\r\n",
    "\r\n",
    "for file in files:\r\n",
    "    print(file)\r\n",
    "    metric = file.split(\"measure=\")[1].split(\"_\")[0]\r\n",
    "    z = float(file.split(\"Z=\")[-1].replace(\".xlsx\", \"\"))\r\n",
    "    df = pd.read_excel(file)\r\n",
    "    headers = get_headers(df)\r\n",
    "    #print(headers)\r\n",
    "    df = df.T\r\n",
    "    tag = 'testacc1'\r\n",
    "    if 'testacc1' not in headers:\r\n",
    "        tag = 'testacc'\r\n",
    "        if 'testacc' not in headers:\r\n",
    "            tag = 'acc'\r\n",
    "    test_acc = np.asarray(\r\n",
    "        df.iloc[headers.index(tag) + 1::len(headers), :])\r\n",
    "    tag = 'trainacc1'\r\n",
    "    if 'trainacc1' not in headers:\r\n",
    "        tag = 'trainacc'\r\n",
    "    try:\r\n",
    "        train_acc = np.asarray(\r\n",
    "            df.iloc[headers.index(tag) + 1::len(headers), :])\r\n",
    "    except:\r\n",
    "        print(1)\r\n",
    "\r\n",
    "    print(np.max(test_acc))\r\n",
    "    print(np.max(train_acc))\r\n",
    "    print(metric, z)\r\n",
    "    values_test[metric][z] = test_acc[-1][-1]\r\n",
    "    values_train[metric][z] = train_acc[-1][-1]\r\n"
   ],
   "outputs": [],
   "metadata": {}
  },
  {
   "cell_type": "code",
   "execution_count": 87,
   "source": [
    "#Get all axes\r\n",
    "x = ['SRdefault', 'SRsquare', 'SRcov','SRLRFdefault', 'SRLRFsquare', 'SRLRFcov', 'ERdefault', 'ERsquare', 'ERcov','ERLRFdefault', 'ERLRFsquare', 'ERLRFcov']\r\n",
    "\r\n",
    "y = []\r\n",
    "for m in x:\r\n",
    "    for z in values_test[m].keys():\r\n",
    "        if(z not in y):\r\n",
    "            y.append(z)\r\n",
    "y.sort()\r\n",
    "print(y)\r\n",
    "frame = pd.DataFrame(index = y, columns=x)"
   ],
   "outputs": [
    {
     "output_type": "stream",
     "name": "stdout",
     "text": [
      "[0.01, 0.02, 0.04, 0.08, 0.16, 0.32, 0.5, 0.64, 1.28, 1.5, 2.5, 3.0, 3.5, 4.5, 5.0, 5.5, 100.0, 200.0, 400.0, 800.0, 1600.0, 3200.0, 6400.0, 12800.0]\n"
     ]
    }
   ],
   "metadata": {}
  },
  {
   "cell_type": "code",
   "execution_count": null,
   "source": [
    "#['SRdefault', 'SRsquare', 'SRcov','SRLRFdefault', 'SRLRFsquare', 'SRLRFcov']:\r\n",
    "#['ERdefault', 'ERsquare', 'ERcov','ERLRFdefault', 'ERLRFsquare', 'ERLRFcov']:\r\n",
    "#[1,2,4,8,16,32,64,128]\r\n",
    "#[100,200,400,800,1600,3200,6400,12800]\r\n",
    "#[0.5,1.5,2.5,3,3.5,4.5,5,5.5]\r\n",
    "for m in ['ERLRFsquare']:\r\n",
    "    print(m, \", \")\r\n",
    "    for z in [0.01,0.02,0.04,0.08,0.16,0.32,0.64,1.28]:\r\n",
    "        print(values_train[m][z], \", \", end = '')\r\n",
    "    print('')"
   ],
   "outputs": [],
   "metadata": {}
  },
  {
   "cell_type": "code",
   "execution_count": null,
   "source": [],
   "outputs": [],
   "metadata": {}
  }
 ],
 "metadata": {
  "orig_nbformat": 4,
  "language_info": {
   "name": "python",
   "version": "3.9.4",
   "mimetype": "text/x-python",
   "codemirror_mode": {
    "name": "ipython",
    "version": 3
   },
   "pygments_lexer": "ipython3",
   "nbconvert_exporter": "python",
   "file_extension": ".py"
  },
  "kernelspec": {
   "name": "python3",
   "display_name": "Python 3.9.4 64-bit"
  },
  "interpreter": {
   "hash": "fd767f124e7d2a8bdccf6b13662be2ce8b3fa3799521e7d6ac19ad88bc5cbd58"
  }
 },
 "nbformat": 4,
 "nbformat_minor": 2
}